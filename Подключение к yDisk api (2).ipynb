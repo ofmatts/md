{
 "cells": [
  {
   "cell_type": "code",
   "execution_count": 1,
   "id": "18f7e58f-7dd6-4087-b2ff-3e64430299bf",
   "metadata": {},
   "outputs": [],
   "source": [
    "import yadisk as ya"
   ]
  },
  {
   "cell_type": "markdown",
   "id": "618a94b7-3f11-49e2-a6d2-8bcaf2d7b573",
   "metadata": {},
   "source": [
    "Ссылка на создание приложения\n",
    "https://oauth.yandex.ru/client/new/"
   ]
  },
  {
   "cell_type": "code",
   "execution_count": 2,
   "id": "9449931b-d742-4aee-a8dd-cfbf77198b79",
   "metadata": {},
   "outputs": [],
   "source": [
    "# token от приложения яндекс (получен в приложении)\n",
    "\n",
    "TOKEN = 'y0_AgAAAAADhVJ2AAoVJwAAAADmGA7iGDFaXV2AQN60xj6t6iAhQei0mLg'"
   ]
  },
  {
   "cell_type": "code",
   "execution_count": 3,
   "id": "9d9b8bdb-f05d-4d6d-a1d0-7c835ce307c7",
   "metadata": {},
   "outputs": [],
   "source": [
    "# Создание объекта для работы с api и открытие сессии\n",
    "\n",
    "y = ya.YaDisk(token=TOKEN)"
   ]
  },
  {
   "cell_type": "code",
   "execution_count": 4,
   "id": "d550835c-f8df-41d2-9756-b64c812d7029",
   "metadata": {},
   "outputs": [],
   "source": [
    "# Директория, в которой лежат файлы на диске. Корневая - ''\n",
    "\n",
    "disk_path = '/test'"
   ]
  },
  {
   "cell_type": "code",
   "execution_count": 5,
   "id": "94987a7c-79f0-436e-b43b-79d7e4179fe6",
   "metadata": {},
   "outputs": [],
   "source": [
    "# Имя файла\n",
    "\n",
    "file_name = 'Test.xlsx'"
   ]
  },
  {
   "cell_type": "code",
   "execution_count": 6,
   "id": "c985db3c-9b76-409f-ba4b-7e4051f9f77b",
   "metadata": {},
   "outputs": [],
   "source": [
    "# Список файлов в директории\n",
    "\n",
    "files = []\n",
    "for file in y.listdir(disk_path):\n",
    "    files.append(file['name'])"
   ]
  },
  {
   "cell_type": "code",
   "execution_count": 7,
   "id": "6558b756-0da0-409a-9561-6886e0163903",
   "metadata": {},
   "outputs": [
    {
     "data": {
      "text/plain": [
       "['Test.xlsx', 'Тест.docx']"
      ]
     },
     "execution_count": 7,
     "metadata": {},
     "output_type": "execute_result"
    }
   ],
   "source": [
    "files"
   ]
  },
  {
   "cell_type": "code",
   "execution_count": 8,
   "id": "05fab803-b4fe-4f88-ac91-968c23205d47",
   "metadata": {},
   "outputs": [
    {
     "data": {
      "text/plain": [
       "<ResourceLinkObject{'href': 'https://cloud-api.yandex.net/v1/disk/resources?path=disk%3A%2Ftest%2FTest.xlsx', 'method': 'GET', 'templated': False, 'path': 'disk:/test/Test.xlsx', 'public_key': None, 'public_url': None}>"
      ]
     },
     "execution_count": 8,
     "metadata": {},
     "output_type": "execute_result"
    }
   ],
   "source": [
    "# Скачивание файла\n",
    "\n",
    "y.download(f'{disk_path}/{file_name}', f'{file_name}')"
   ]
  },
  {
   "cell_type": "code",
   "execution_count": 9,
   "id": "e084457e-1fff-46d2-acb0-66788e307f5d",
   "metadata": {},
   "outputs": [
    {
     "data": {
      "text/plain": [
       "<ResourceLinkObject{'href': 'https://cloud-api.yandex.net/v1/disk/resources?path=disk%3A%2Ftest%2FTest.xlsx', 'method': 'GET', 'templated': False, 'path': 'disk:/test/Test.xlsx', 'public_key': None, 'public_url': None}>"
      ]
     },
     "execution_count": 9,
     "metadata": {},
     "output_type": "execute_result"
    }
   ],
   "source": [
    "# Загрузка файла на диск. Если он существует - перезапишется\n",
    "y.upload(f'{file_name}', f'{disk_path}/{file_name}', overwrite=True)"
   ]
  },
  {
   "cell_type": "code",
   "execution_count": 10,
   "id": "d2c9521a-9625-49f6-8b1f-34df3fa8a311",
   "metadata": {},
   "outputs": [],
   "source": [
    "# Закрытие сессии\n",
    "y.clear_session_cache()"
   ]
  }
 ],
 "metadata": {
  "kernelspec": {
   "display_name": "Python 3 (ipykernel)",
   "language": "python",
   "name": "python3"
  },
  "language_info": {
   "codemirror_mode": {
    "name": "ipython",
    "version": 3
   },
   "file_extension": ".py",
   "mimetype": "text/x-python",
   "name": "python",
   "nbconvert_exporter": "python",
   "pygments_lexer": "ipython3",
   "version": "3.9.12"
  }
 },
 "nbformat": 4,
 "nbformat_minor": 5
}
